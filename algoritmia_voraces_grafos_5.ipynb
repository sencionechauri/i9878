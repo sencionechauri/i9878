{
  "cells": [
    {
      "cell_type": "markdown",
      "source": [
        "# <center>Algoritmos Voraces</center>\n",
        "## <center>Grafos (continuación)</center>"
      ],
      "metadata": {
        "nteract": {
          "transient": {
            "deleting": false
          }
        }
      }
    },
    {
      "cell_type": "markdown",
      "source": [
        "### Caminos Más Cortos con un Origen\n",
        "\n",
        "El problema de los caminos más cortos con un origen consiste en lo siguiente: Para un vértice determinado llamado origen en un grafo pesado conectado, encontrar los caminos más cortos a los demás vertices.\n",
        "\n",
        "El problema de los caminos más cortos con un origen pide una familia de caminos, cada uno llevando desde el origen hacia un vértice distinto en el grafo. Aunque algunos caminos puedan, por supuesto, tener vértices en común."
      ],
      "metadata": {
        "nteract": {
          "transient": {
            "deleting": false
          }
        }
      }
    },
    {
      "cell_type": "markdown",
      "source": [
        "Una variedad de aplicaciones prácticas del problemas de los caminos más cortos han hecho al problema un objeto de estudio muy popular. La aplicación obvia pero probablemente más ampliamente usada es la planeación de transporte y ruteo de paquetes en redes de comunicación, incluyendo Internet.\n",
        "\n",
        "Multitudes de aplicaciones menos obvias incluyen:\n",
        "\n",
        "* Caminos más cortos en redes sociales\n",
        "* Reconocimiento de voz\n",
        "* Formateo de documentos\n",
        "* Robótica\n",
        "* Compiladores\n",
        "* Organización de vuelos\n",
        "* Encontrar caminos en videojuegos"
      ],
      "metadata": {
        "nteract": {
          "transient": {
            "deleting": false
          }
        }
      }
    },
    {
      "cell_type": "markdown",
      "source": [
        "Hay varios algoritmos bien conocidos para encontrar los caminos más cortos, incluyendo el algoritmo de Floyd. \n",
        "\n",
        "El algoritmo más conocido para dicho problema es el algoritmo de Dijkstra. Este algoritmo es aplicable a grafos no dirigidos y grafos dirigidos sólo con pesos no negativos."
      ],
      "metadata": {
        "nteract": {
          "transient": {
            "deleting": false
          }
        }
      }
    },
    {
      "cell_type": "markdown",
      "source": [
        "**Algoritmo de Dijkstra**\n",
        "\n",
        "El algoritmo de Dijkstra encuentra los caminos más cortos hacia los vértices de un grafo según la distancia desde un origen dado. Primero, encuentra el camino más corto desde el origen hacia el vértice más cercano a él, después al segundo más cercano y así sucesivamente. En general, antes de la $i-$ésima iteración el algoritmo ya ha identificado los caminos más cortos a los $i - 1$ vértices cercanos al origen."
      ],
      "metadata": {
        "nteract": {
          "transient": {
            "deleting": false
          }
        }
      }
    },
    {
      "cell_type": "markdown",
      "source": [
        "```\n",
        "Dijkstra(G, inicial)\n",
        "Inicializar V – S con los vértices excepto el inicial\n",
        "Crear cola de prioridad cp\n",
        "actual = inicial\n",
        "para todo v en V - S\n",
        "\tsi hay una arista (inicial , v)\n",
        "\t\td[v] = w(inicial, v) // siendo w(u, v) el peso\n",
        "\tsino\n",
        "\t\td[v] = infinito\n",
        "d[inicial] = 0\n",
        "Mientras V – S no esté vacío\n",
        "\tPara toda arista e con origen en actual\n",
        "\t\tSi V – S contiene al destino de e\n",
        "\t\t\te.peso = e.peso + d[actual]\n",
        "\t\t\tAgregar e a cp\n",
        "\tExtraer elemento de cp y asignar a arista\n",
        "\tMientras destino en arista no exista en V – S\n",
        "\t\tExtraer elemento de cp y asignar a arista\n",
        "\td[arista.destino] = arista.peso\n",
        "\tRemover destino en arista de V – S\n",
        "\tAgregar arista a resultado\n",
        "\tactual = destino en arista\n",
        "```"
      ],
      "metadata": {
        "nteract": {
          "transient": {
            "deleting": false
          }
        }
      }
    },
    {
      "cell_type": "code",
      "source": [
        "%%html\n",
        "<center><iframe src=\"https://drive.google.com/file/d/1LBc73Xd_3jtsD_53m4Noeijp5dP2IcOb/preview\" width=\"640\" height=\"480\"></iframe></center>"
      ],
      "outputs": [],
      "execution_count": null,
      "metadata": {
        "collapsed": true,
        "jupyter": {
          "source_hidden": false,
          "outputs_hidden": false
        },
        "nteract": {
          "transient": {
            "deleting": false
          }
        },
        "execution": {
          "iopub.status.busy": "2020-11-11T15:53:27.357Z",
          "iopub.execute_input": "2020-11-11T15:53:27.390Z",
          "iopub.status.idle": "2020-11-11T15:53:27.681Z",
          "shell.execute_reply": "2020-11-11T15:53:27.718Z"
        }
      }
    },
    {
      "cell_type": "markdown",
      "source": [
        "**Ejemplo: Algoritmo de Dijkstra**\n",
        "\n",
        "<center><img src=\"media/dijkstra.png\" width=80%/></center>"
      ],
      "metadata": {
        "nteract": {
          "transient": {
            "deleting": false
          }
        }
      }
    }
  ],
  "metadata": {
    "kernel_info": {
      "name": "python3"
    },
    "language_info": {
      "name": "python",
      "version": "3.7.3",
      "mimetype": "text/x-python",
      "codemirror_mode": {
        "name": "ipython",
        "version": 3
      },
      "pygments_lexer": "ipython3",
      "nbconvert_exporter": "python",
      "file_extension": ".py"
    },
    "kernelspec": {
      "argv": [
        "python",
        "-m",
        "ipykernel_launcher",
        "-f",
        "{connection_file}"
      ],
      "display_name": "Python 3",
      "language": "python",
      "name": "python3"
    },
    "nteract": {
      "version": "0.26.0"
    }
  },
  "nbformat": 4,
  "nbformat_minor": 0
}