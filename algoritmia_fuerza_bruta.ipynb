{
  "cells": [
    {
      "cell_type": "markdown",
      "source": [
        "# <center>Algoritmos de Fuerza Bruta</center>"
      ],
      "metadata": {
        "nteract": {
          "transient": {
            "deleting": false
          }
        }
      }
    },
    {
      "cell_type": "code",
      "source": [
        "%%html\n",
        "<center><iframe src=\"\" width=\"320\" height=\"240\"></iframe></center>"
      ],
      "outputs": [
        {
          "output_type": "display_data",
          "data": {
            "text/plain": "<IPython.core.display.HTML object>",
            "text/html": "<center><iframe src=\"https://drive.google.com/file/d/1Iv-GCU2N9kN3567hVRK4NXkQQa1qL2iZ/preview\" width=\"320\" height=\"240\"></iframe></center>\nPresiona el botón Run para ver el contenido\n"
          },
          "metadata": {}
        }
      ],
      "execution_count": 1,
      "metadata": {
        "collapsed": true,
        "jupyter": {
          "source_hidden": false,
          "outputs_hidden": false
        },
        "nteract": {
          "transient": {
            "deleting": false
          }
        },
        "execution": {
          "iopub.status.busy": "2020-10-26T00:27:50.621Z",
          "iopub.execute_input": "2020-10-26T00:27:50.644Z",
          "iopub.status.idle": "2020-10-26T00:27:50.738Z",
          "shell.execute_reply": "2020-10-26T00:27:50.963Z"
        }
      }
    },
    {
      "cell_type": "markdown",
      "source": [
        "Fuerza Bruta es un acercamiento directo a la solución de un problema, comunmente inspirado de forma directa en el enunciado del problema y la definición de los conceptos involucrados.\n",
        "\n",
        "La fuerza implicada por la definición de la estrategia es la de la computadora y no la del intelectuo humano."
      ],
      "metadata": {
        "nteract": {
          "transient": {
            "deleting": false
          }
        }
      }
    },
    {
      "cell_type": "markdown",
      "source": [
        "Aunque rara vez es la fuente de algoritmos eficientes o astutos, al acercamiento de fuerza bruta no debe ser menospreciado como una estrategia importante de diseño de algoritmos:\n",
        "\n",
        "1. A diferencia de otras estrategias, la fuerza bruta se aplica a una **gran variedad de problemas**. De hecho parece ser el único acercamiento general para el cual es más difícil encontrar problemas que no pueda resolver.\n",
        "\n",
        "2. Para algunos problemas importantes el acercamiento de fuerza bruta entrega **algoritmos razonables** para al menos algún valor práctico sin limitación en el tamaño de instancia.\n",
        "\n",
        "3. El gasto en diseñar un algoritmo más eficiente puede ser injustificado si sólo unas pocas instancias de un problema necesitan ser resueltas y un algoritmo de fuerza bruta puede resolver esas instancias con velocidad aceptable.\n",
        "\n",
        "4. Incluso aunque muy ineficiente en general, un algoritmo de fuerza bruta puede ser útil para resolver **instancias de tamaño** pequeño de un problema.\n",
        "\n",
        "5. Un algorimo de fuerza bruta puede servir como **punto de comparación** para juzgar alternativas más eficientes a la solución de un problema."
      ],
      "metadata": {
        "nteract": {
          "transient": {
            "deleting": false
          }
        }
      }
    },
    {
      "cell_type": "markdown",
      "source": [
        "## Ejemplos"
      ],
      "metadata": {
        "nteract": {
          "transient": {
            "deleting": false
          }
        }
      }
    },
    {
      "cell_type": "markdown",
      "source": [
        "### Ordenamiento por Selección\n",
        "\n",
        "Se comienza el ordenamiento por selección recorriendo la lista dada para encontrar el elemento más pequeño e intercambiarlo con el primer elemento, colocando así el elemento más pequeño en su posición final en la lista ordenada. Luego se recorre la lista, comenzando con el segundo elemento para encontrar el menor entre los últimos $n - 1$ elementos e intercambiarlo con el segundo, colocando el segundo elemento más pequeño en su posición final. Después de $n – 1$ pasadas, la lista está ordenada.\n",
        "\n",
        "```\n",
        "Seleccion(A[0..n-1])\n",
        "//Ordena por selección un arreglo dado.\n",
        "//Entrada: Un arreglo A[0..n-1] de elementos ordenables.\n",
        "//Salida: Arreglo A[0..n-1] ordenado de forma no decreciente.\n",
        "desde i ← 0 hasta n − 2 hacer\n",
        "    min ← i\n",
        "    desde j ← i + 1 hasta n − 1 hacer\n",
        "        si A[j] < A[min]\n",
        "            min ← j\n",
        "    intercambiar A[i] y A[min]\n",
        "```"
      ],
      "metadata": {
        "nteract": {
          "transient": {
            "deleting": false
          }
        }
      }
    },
    {
      "cell_type": "markdown",
      "source": [
        "### Métodos de Búsqueda\n",
        "\n",
        "Buscar: Hacer algo para hallar a alguien o algo. (RAE)\n",
        "Buscar: Hacer lo necesario para conseguir algo. (RAE)\n",
        "\n",
        "En términos computacionales el problema de búsqueda trata con el hecho de encontrar un valor determinado, denominado *llave de búsqueda*, en un conjunto dado (o multiconjunto, el cual permite varios elementos con el mismo valor)."
      ],
      "metadata": {
        "nteract": {
          "transient": {
            "deleting": false
          }
        }
      }
    },
    {
      "cell_type": "markdown",
      "source": [
        "Hay una gran variedad de algoritmos de búsqueda de donde escoger. Varían desde la directa búsqueda secuencial hasta la espectacularmente eficiente pero limitada búsqueda binaria y algoritmos basados en representar el conjunto subyacente en una forma diferente más propensa a la búsqueda.\n",
        "\n",
        "Algunos algoritmos de búsqueda:\n",
        "* Búsqueda secuencial\n",
        "* Búsqueda exhaustiva\n",
        "* Búsqueda primero en profundidad\n",
        "* Búsqueda primero en amplitud\n",
        "* Búsqueda Binaria\n",
        "* Búsqueda por interpolación"
      ],
      "metadata": {
        "nteract": {
          "transient": {
            "deleting": false
          }
        }
      }
    },
    {
      "cell_type": "markdown",
      "source": [
        "### Búsqueda Secuencial\n",
        "Este es un algoritmo directo, perteneciente a la categoría de fuerza bruta, que busca por un elemento determinado (alguna llave $K$) en una lista de $n$ elementos al comparar elementos sucesivos de la lista hasta que se encuentre un elemento con el mismo valor que el buscado o la lista es agotada. Su comportamiento es de $\\mathrm{O}(n)$.\n",
        "\n",
        "```\n",
        "BusquedaSecuencial(A[0...n-1], K)\n",
        "//Busca un valor determinado en un arreglo dado por busqueda secuencial.\n",
        "//Entrada: Un arreglo A[0...n­1] y una llave de búsqueda K.\n",
        "//Salida: El índice del primer elemento en A con el valor K o -1 si no se encuentra el elemento.\n",
        "\n",
        "i ← 0\n",
        "mientras i < n y A[i] <> K hacer\n",
        "    i ← i + 1\n",
        "si i < n regresar i\n",
        "sino regresar -1\n",
        "```\n"
      ],
      "metadata": {
        "nteract": {
          "transient": {
            "deleting": false
          }
        }
      }
    },
    {
      "cell_type": "markdown",
      "source": [
        "### Búsqueda Exhaustiva\n",
        "\n",
        "Búsqueda exhaustiva es un acercamiento de fuerza bruta para problemas de combinatorias. Sugiere generar todos y cada uno de los elementos del dominio del problema, seleccionando aquellos que satisfacen todas las restricciones y posteriormente encontrando un elemento deseado (p.e. el que optimiza alguna función objetivo). Como ejemplos se pueden mencionar:\n",
        "\n",
        "* Traveling salesman problem.\n",
        "* Knapsack problem.\n",
        "* Assignment problem."
      ],
      "metadata": {
        "nteract": {
          "transient": {
            "deleting": false
          }
        }
      }
    },
    {
      "cell_type": "markdown",
      "source": [
        "#### Traveling Salesman Problem (agente viajero)\n",
        "\n",
        "El problema pide encontrar el recorrido más corto a través de un determinado conjunto de $n$ ciudades que visite cada ciudad exactamente una vez antes de regresar a la ciudad donde inició. El problema puede ser modelado convenientemente por un grafo pesado, con los vértices del grafo representando las ciudades y el peso de las aristas especificando las distancias.\n",
        "\n",
        "El problema puede ser descrito como el problema de encontrar el circuito Hamiltoniano más corto del grafo. Es fácil ver que un circuito Hamiltoniano también puede ser definido como una secuencia de $n + 1$ vértices adyacentes $v_{i_{0}}, v_{i_{1}}, \\dots, v_{i_{n-1}}, v_{i_{0}}$.\n",
        "\n",
        "Por lo tanto se pueden obtener todos los recorridos generando todas las permutaciones de $n – 1$ ciudades intermedias, computar la longitud de los recorridos y encontrar el más corto entre ellos."
      ],
      "metadata": {
        "nteract": {
          "transient": {
            "deleting": false
          }
        }
      }
    },
    {
      "cell_type": "markdown",
      "source": [
        "#### Ejemplo\n",
        "\n",
        "Resolver el problema del agente viajero para el siguiente grafo:\n",
        "\n",
        "<center><img src=\"media/tsp_1.png\" width=50%/></center>\n",
        "\n",
        "Comenzar en el Nodo $A$\n",
        "\n",
        "Caminos | Costos\n",
        "--- | ---\n",
        "$A \\rightarrow B \\rightarrow C \\rightarrow D \\rightarrow A$ | $L = 2 + 8 + 1 + 7 = 18$\n",
        "$A \\rightarrow B \\rightarrow D \\rightarrow C \\rightarrow A$ | **$L = 2 + 3 + 1 + 5 = 11$**\n",
        "$A \\rightarrow C \\rightarrow B \\rightarrow D \\rightarrow A$ | $L = 5 + 8 + 3 + 7 = 23$\n",
        "$A \\rightarrow C \\rightarrow D \\rightarrow B \\rightarrow A$ | **$L = 5 + 1 + 3 + 2 = 11$**\n",
        "$A \\rightarrow D \\rightarrow B \\rightarrow C \\rightarrow A$ | $L = 7 + 3 + 8 + 5 = 23$\n",
        "$A \\rightarrow D \\rightarrow C \\rightarrow B \\rightarrow A$ | $L = 7 + 1 + 8 + 2 = 18$"
      ],
      "metadata": {
        "nteract": {
          "transient": {
            "deleting": false
          }
        }
      }
    },
    {
      "cell_type": "markdown",
      "source": [
        "#### Ejercicio\n",
        "\n",
        "Resuelve el problema del agente viajero para el siguiente grafo:\n",
        "\n",
        "<center><img src=\"media/tsp_2.png\" width=50%/></center>\n",
        "\n",
        "Comienza en el Nodo $A$\n"
      ],
      "metadata": {
        "nteract": {
          "transient": {
            "deleting": false
          }
        }
      }
    },
    {
      "cell_type": "markdown",
      "source": [],
      "metadata": {
        "nteract": {
          "transient": {
            "deleting": false
          }
        }
      }
    }
  ],
  "metadata": {
    "kernel_info": {
      "name": "python3"
    },
    "language_info": {
      "name": "python",
      "version": "3.7.3",
      "mimetype": "text/x-python",
      "codemirror_mode": {
        "name": "ipython",
        "version": 3
      },
      "pygments_lexer": "ipython3",
      "nbconvert_exporter": "python",
      "file_extension": ".py"
    },
    "kernelspec": {
      "argv": [
        "python",
        "-m",
        "ipykernel_launcher",
        "-f",
        "{connection_file}"
      ],
      "display_name": "Python 3",
      "language": "python",
      "name": "python3"
    },
    "nteract": {
      "version": "0.25.1"
    }
  },
  "nbformat": 4,
  "nbformat_minor": 0
}