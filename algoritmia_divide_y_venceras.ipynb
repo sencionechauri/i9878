{
  "cells": [
    {
      "cell_type": "markdown",
      "source": [
        "# <center>Algoritmos Divide y Vencerás</center>"
      ],
      "metadata": {
        "nteract": {
          "transient": {
            "deleting": false
          }
        }
      }
    },
    {
      "cell_type": "markdown",
      "source": [
        "Divide y vencerás es probablemente la técnica general de diseño de algoritmos mejor conocida. Aunque su fama pueda tener algo que ver con su nombre pegadizo, está bien ganada: unos cuantos algoritmos muy eficientes son implementaciones específicas de esta estrategia general."
      ],
      "metadata": {
        "nteract": {
          "transient": {
            "deleting": false
          }
        }
      }
    },
    {
      "cell_type": "markdown",
      "source": [
        "Los algoritmos divide y vencerás trabajan de acuerdo al siguiente plan general:\n",
        "\n",
        "1. Un problema se **divide en** varios **subproblemas** del mismo tipo, idealmente de tamaños iguales.\n",
        "2. Los **subproblemas** son **resueltos** (típicamente de **forma recursiva**, aunque algunas veces un algoritmo distinto es usado, especialmente cuando los subproblemas se vuelven suficientemente pequeños).\n",
        "3. Si es necesario, se **combinan** las **soluciones** a los subproblemas para obtener la solución al problema original."
      ],
      "metadata": {
        "nteract": {
          "transient": {
            "deleting": false
          }
        }
      }
    },
    {
      "cell_type": "markdown",
      "source": [
        "## Ejemplos"
      ],
      "metadata": {
        "nteract": {
          "transient": {
            "deleting": false
          }
        }
      }
    },
    {
      "cell_type": "markdown",
      "source": [
        "## Ordenamiento por Mezcla (Mergesort)\n",
        "\n",
        "Este ordenamiento es un ejemplo perfecto de una aplicación exitosa de la técnica divide y vencerás. \n",
        "\n",
        "Ordena un arreglo $A[0...n - 1]$ al dividirlo en dos mitades $A[0...n/2 – 1]$ y $A[n/2...n – 1]$ ordenando cada una de ellas recursivamente y después mezclando los dos arreglos pequeños ya ordenados en uno sólo ordenado."
      ],
      "metadata": {
        "nteract": {
          "transient": {
            "deleting": false
          }
        }
      }
    },
    {
      "cell_type": "markdown",
      "source": [
        "```\n",
        "Mergesort(A[0...n - 1])\n",
        "//Ordena un arreglo por el método de mezcla\n",
        "//Entrada: Un arreglo A[0...n-1] de elementos ordenables\n",
        "//Salida: Arreglo A[0...n-1] ordenado de forma no decreciente\n",
        "\n",
        "si n > 1\n",
        "\tp ← redondear_abajo((n – 1) / 2)\n",
        "\tcopiar A[0...p] a B[0...p]\n",
        "\tsi modulo(n, 2) = 0\n",
        "\t\tcopiar A[p + 1...n – 1] a C[0...p]\n",
        "\tsino\n",
        "\t\tcopiar A[p + 1...n – 1] a C[0...p – 1]\n",
        "\tMergesort(B)\n",
        "\tMergesort(C)\n",
        "\tMerge(B, C, A)\n",
        "```"
      ],
      "metadata": {
        "nteract": {
          "transient": {
            "deleting": false
          }
        }
      }
    },
    {
      "cell_type": "markdown",
      "source": [
        "El resultado de la operación *Merge* es la creación de una tercer secuencia ordenada que contenga todos los elementos de las primeras dos secuencias ordenadas."
      ],
      "metadata": {
        "nteract": {
          "transient": {
            "deleting": false
          }
        }
      }
    },
    {
      "cell_type": "markdown",
      "source": [
        "```\n",
        "Merge(B[0...p – 1], C[0...q – 1], A[0...p + q - 1])\n",
        "//Mezcla dos arreglos ordenados en un arreglo ordenado\n",
        "//Entrada: arreglos ordenados B[0...p - 1] y C[0...q - 1]\n",
        "//Salida: Arreglo ordenado A[0...p + q - 1] con los elementos de B y C\n",
        "\n",
        "i ← 0; j ← 0; k ← 0\n",
        "mientras i < p y j < q hacer\n",
        "\tsi B[i] <= C[j]\n",
        "\t\tA[k] ← B[i]; i ← i + 1\n",
        "\tsino\n",
        "\t\tA[k] ← C[j]; j ← j + 1\n",
        "\tk ← k + 1\n",
        "si i = p\n",
        "\tCopiar C[j...q – 1] a A[k...p + q – 1]\n",
        "sino\n",
        "\tCopiar B[i...p – 1] a A[k...p + q - 1]\n",
        "```"
      ],
      "metadata": {
        "nteract": {
          "transient": {
            "deleting": false
          }
        }
      }
    },
    {
      "cell_type": "markdown",
      "source": [
        "### Ejemplo\n",
        "\n",
        "<center><img src=\"media/mergesort.png\" width=50%/></center>\n"
      ],
      "metadata": {
        "nteract": {
          "transient": {
            "deleting": false
          }
        }
      }
    },
    {
      "cell_type": "markdown",
      "source": [
        "Mergesort no trabaja en el sitio: tiene que hacer copias completas del arreglo de entrada.\n",
        "\n",
        "Si el espacio apremia, tal vez no quieras usar el ordenamiento por mezcla.\n",
        "\n",
        "Irónicamente su mejor aplicación es para cantidades grandes de datos porque facilita trabajar con divisiones del grupo originalmente desordenado."
      ],
      "metadata": {
        "nteract": {
          "transient": {
            "deleting": false
          }
        }
      }
    },
    {
      "cell_type": "markdown",
      "source": [
        "En el caso más típico de *divide y vencerás* una instancia de un problema de tamaño $n$ es dividida en dos instancias de tamaño $n/2$. Más generalmente, una instancia de tamaño $n$ puede ser dividida en $b$ instancias de tamaño $n/b$, con $a$ de ellas necesitando ser resueltas. Aquí $a$ y $b$ son constantes: $a ≥ 1$ y $b > 1$."
      ],
      "metadata": {
        "nteract": {
          "transient": {
            "deleting": false
          }
        }
      }
    },
    {
      "cell_type": "markdown",
      "source": [
        "Asumiendo que el tamaño $n$ es una potencia de $b$ para simplificar el análisis, se obtiene la siguiente recurrencia para el tiempo de ejecución $T$:\n",
        "\n",
        "$$T(n) = aT(n/b)+f(n)$$\n",
        "\n",
        "donde $f(n)$ es una función que cuenta el tiempo utilizado en dividir una instancia de tamaño $n$ en instancias de tamaño $n/b$ y combinar sus soluciones. La recurrencia anterior se llama: **recurrencia general de divide y vencerás**."
      ],
      "metadata": {
        "nteract": {
          "transient": {
            "deleting": false
          }
        }
      }
    },
    {
      "cell_type": "markdown",
      "source": [
        "## Teorema Maestro\n",
        "\n",
        "Si $f(n) \\in \\Theta (n^{d})$ donde $d \\geq 0$ en la recurrencia anterior, entonces\n",
        "\n",
        "$$\n",
        "T(n) \\in\n",
        "\\begin{cases}\n",
        "\\Theta (n^d) & \\text{si } a < b^d \\\\\n",
        "\\Theta (n^d \\log_n) & \\text{si } a=b^d \\\\\n",
        "\\Theta (n^{\\log b^a}) & \\text{si } a > b^d\n",
        "\\end{cases}\n",
        "$$"
      ],
      "metadata": {
        "nteract": {
          "transient": {
            "deleting": false
          }
        }
      }
    },
    {
      "cell_type": "markdown",
      "source": [
        "### Ejemplo: Análisis del algoritmo Mergesort\n",
        "\n",
        "Asumiendo por simplicidad que $n$ es una potencia de 2, la relación de recurrencia para el número de comparaciones de llaves $c(n)$ es\n",
        "\n",
        "$$c(n) = 2c(n/2) + c_{merge} (n) \\text{ para } n > 1$$\n",
        "\n",
        "$$c(1) = 0$$"
      ],
      "metadata": {
        "nteract": {
          "transient": {
            "deleting": false
          }
        }
      }
    },
    {
      "cell_type": "markdown",
      "source": [
        "Para el peor caso $c_{merge} (n) = n-1$ comparaciones y se da cuando ninguno de los arreglos se “vacía” antes que el otro contenga solo un elemento. Por lo tanto, reemplazando en la recurrencia general de divide y vencerás\n",
        "\n",
        "$$T(n) = aT(n/b)+f(n)$$\n",
        "\n",
        "se tiene: \n",
        "\n",
        "$$c_{peor} (n) = 2c_{peor} (n/2) + n-1 \\text{ para } n > 1$$\n",
        "$$c_{peor} (1) = 0$$\n",
        "\n",
        "Susituyendo en el teorema maestro: $a=2$, $b=2$, $d=1$\n",
        "\n",
        "Como $a = b^d$\n",
        "$$\n",
        "c_{peor} (n) \\in \\Theta (n \\log n)\n",
        "$$"
      ],
      "metadata": {
        "nteract": {
          "transient": {
            "deleting": false
          }
        }
      }
    },
    {
      "cell_type": "markdown",
      "source": [
        "Referencias\n",
        "\n",
        "Levitin, A. (2012) \"Introduction to the design and analysis of algorithms\". Ed. Pearson education, edición 3, Estados unidos de América."
      ],
      "metadata": {
        "nteract": {
          "transient": {
            "deleting": false
          }
        }
      }
    }
  ],
  "metadata": {
    "kernel_info": {
      "name": "python3"
    },
    "language_info": {
      "name": "python",
      "version": "3.7.3",
      "mimetype": "text/x-python",
      "codemirror_mode": {
        "name": "ipython",
        "version": 3
      },
      "pygments_lexer": "ipython3",
      "nbconvert_exporter": "python",
      "file_extension": ".py"
    },
    "kernelspec": {
      "argv": [
        "python",
        "-m",
        "ipykernel_launcher",
        "-f",
        "{connection_file}"
      ],
      "display_name": "Python 3",
      "language": "python",
      "name": "python3"
    },
    "nteract": {
      "version": "0.26.0"
    }
  },
  "nbformat": 4,
  "nbformat_minor": 0
}