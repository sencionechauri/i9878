{
  "cells": [
    {
      "cell_type": "markdown",
      "source": [
        "# <center>Algoritmos Voraces</center>\n",
        "## <center>Grafos (continuación)</center>"
      ],
      "metadata": {
        "nteract": {
          "transient": {
            "deleting": false
          }
        }
      }
    },
    {
      "cell_type": "markdown",
      "source": [
        "### Árbol de Expansión Mínima\n",
        "\n",
        "Un árbol de expansión de un grafo no dirigido conectado es un subgrafo acíclico conectado (es decir, un árbol) que contiene todos los vértices del grafo. Si dicho grafo contiene pesos asociados a sus aristas, un árbol de expansión mínima es un árbol de expansión del menor peso, donde el peso de un árbol es definido como la suma de los pesos en todas sus aristas.\n",
        "\n",
        "**Ejemplo**\n",
        "\n",
        "<center><img src=\"media/aem.png\" width=50%></center>\n",
        "\n",
        "El problema del árbol de expansión mínima es el problema de encontrar un árbol de expansión mínima para un grafo conectado pesado."
      ],
      "metadata": {
        "nteract": {
          "transient": {
            "deleting": false
          }
        }
      }
    },
    {
      "cell_type": "markdown",
      "source": [
        "**Algoritmo de Prim**\n",
        "\n",
        "El algoritmo de Prim construye un árbol de expansión mínima a través de una secuencia de subárboles en expansión. El subárbol inicial en dicha secuencia consiste de un único vértice seleccionado arbitrariamente de el conjunto V de los vértices del grafo. En cada iteración, el algoritmo expande el árbol actual en forma voraz simplemente agregandole el vértice más cercano que no esté en el árbol. (Por vértice más cercano se considera a un vértice que no esté en el árbol y que esté conectado a un vértice del árbol por la arista de menor peso.)\n",
        "\n",
        "El algoritmo se detiene después de que todos los vértices del grafo hayan sido incluidos en el árbol que se está construyendo. Como el algoritmo expande un árbol exáctamente un vértice en cada una de sus iteraciones, el número total de dichas iteraciones es $n – 1$, donde $n$ es el número de vértices en el grafo. El árbol generado por el algoritmo se obtiene como el conjunto de aristas usadas para las expansiones del árbol."
      ],
      "metadata": {
        "nteract": {
          "transient": {
            "deleting": false
          }
        }
      }
    },
    {
      "cell_type": "markdown",
      "source": [
        "```\n",
        "Prim(G)\n",
        "//Algoritmo de Prim para construir un árbol de expansión mínima\n",
        "//Entrada: Grafo conectado pesado G = (V, E)\n",
        "//Salida: ET, el conjunto de aristas que conforman el árbol de expansión mínima de G.\n",
        "\n",
        "Inicializar V – S con todos los vértices excepto el inicial\n",
        "Crear cola de prioridad cp\n",
        "actual = inicial\n",
        "Mientras V – S no esté vacío\n",
        "\tPara toda arista a con origen en actual\n",
        "\t\tSi V – S contiene al destino de a\n",
        "\t\t\tAgregar a a cp\n",
        "\tExtraer elemento de cp y asignar a arista\n",
        "\tMientras destino en arista no exista en V – S\n",
        "\t\tExtraer elemento de cp y asignar a arista\n",
        "\tRemover destino en arista de V – S\n",
        "\tAgregar arista a árbol de expansión mínima\n",
        "\tactual = destino en arista\n",
        "```"
      ],
      "metadata": {
        "nteract": {
          "transient": {
            "deleting": false
          }
        }
      }
    },
    {
      "cell_type": "code",
      "source": [
        "%%html\n",
        "<center><iframe src=\"https://drive.google.com/file/d/1odBVGTzY8ngsHXrHxAWWtWLaLw_KpkcZ/preview\" width=\"640\" height=\"480\"></iframe></center>"
      ],
      "outputs": [],
      "execution_count": null,
      "metadata": {
        "collapsed": true,
        "jupyter": {
          "source_hidden": false,
          "outputs_hidden": false
        },
        "nteract": {
          "transient": {
            "deleting": false
          }
        },
        "execution": {
          "iopub.status.busy": "2020-11-11T15:53:09.356Z",
          "iopub.execute_input": "2020-11-11T15:53:09.388Z",
          "iopub.status.idle": "2020-11-11T15:53:09.514Z",
          "shell.execute_reply": "2020-11-11T15:53:09.552Z"
        }
      }
    },
    {
      "cell_type": "markdown",
      "source": [
        "**Ejemplo: Algoritmo de Prim**\n",
        "\n",
        "<center><img src=\"media/prim.png\" width=80%/></center>"
      ],
      "metadata": {
        "nteract": {
          "transient": {
            "deleting": false
          }
        }
      }
    },
    {
      "cell_type": "markdown",
      "source": [
        "**Algoritmo de Kruskal**\n",
        "\n",
        "El algoritmo de Kruskal ve al árbol de expansión mínima de un grafo conectado pesado $G = (V, E)$ como un subgrafo acíclico con $|V| - 1$ aristas para las cuales la suma de los pesos de las aristas es la menor. Por consecuencia, el algoritmo construye un árbol de expansión mínima como una secuencia en expansión de subgrafos que siempre son acíclicos pero no necesariamente conectados en las etapas intermedias del algoritmo.\n",
        "\n",
        "El algoritmo comienza ordenando las aristas de forma no decreciente con respecto a sus pesos. Después, comenzando con un subgrafo vacío, recorre la lista ordenada agregando la siguiente arista de la lista al subgrafo actual, si dicha inclusión no crea un ciclo."
      ],
      "metadata": {
        "nteract": {
          "transient": {
            "deleting": false
          }
        }
      }
    },
    {
      "cell_type": "markdown",
      "source": [
        "```\n",
        "Kruskal(G)\n",
        "//Entrada: Grafo conectado pesado G = (V, E)\n",
        "//Salida: aem, el conjunto de aristas que conforman el árbol de expansión mínima de G.\n",
        "\n",
        "Ordenar aristas de forma no decreciente según los pesos\n",
        "aem = {}\n",
        "contador = 0\n",
        "k = 0\n",
        "Inicializar lista de conjuntos disjuntos C\n",
        "mientras contador < |V| - 1\n",
        "  a = aristas[k]\n",
        "  por cada origen en C\n",
        "    si a.origen está en origen\n",
        "      por cada destino en C\n",
        "        si a.destino está en destino\n",
        "         si origen y destino no comparten elementos\n",
        "            insertar a en aem\n",
        "            contador = contador + 1\n",
        "            origen = origen unión destino\n",
        "            eliminar destino de C\n",
        "          romper\n",
        "      romper\n",
        "  k = k + 1\n",
        "```"
      ],
      "metadata": {
        "nteract": {
          "transient": {
            "deleting": false
          }
        }
      }
    },
    {
      "cell_type": "code",
      "source": [
        "%%html\n",
        "<center><iframe src=\"https://drive.google.com/file/d/18fynGiqJ-XTkhzc6mURAT6FkS6-UhlJC/preview\" width=\"640\" height=\"480\"></iframe></center>"
      ],
      "outputs": [],
      "execution_count": null,
      "metadata": {
        "collapsed": true,
        "jupyter": {
          "source_hidden": false,
          "outputs_hidden": false
        },
        "nteract": {
          "transient": {
            "deleting": false
          }
        },
        "execution": {
          "iopub.status.busy": "2020-11-11T15:53:27.357Z",
          "iopub.execute_input": "2020-11-11T15:53:27.390Z",
          "iopub.status.idle": "2020-11-11T15:53:27.681Z",
          "shell.execute_reply": "2020-11-11T15:53:27.718Z"
        }
      }
    },
    {
      "cell_type": "markdown",
      "source": [
        "**Ejemplo: Algoritmo de Kruskal**\n",
        "\n",
        "<center><img src=\"media/kruskal.png\" width=80%/></center>"
      ],
      "metadata": {
        "nteract": {
          "transient": {
            "deleting": false
          }
        }
      }
    }
  ],
  "metadata": {
    "kernel_info": {
      "name": "python3"
    },
    "language_info": {
      "name": "python",
      "version": "3.7.3",
      "mimetype": "text/x-python",
      "codemirror_mode": {
        "name": "ipython",
        "version": 3
      },
      "pygments_lexer": "ipython3",
      "nbconvert_exporter": "python",
      "file_extension": ".py"
    },
    "kernelspec": {
      "argv": [
        "python",
        "-m",
        "ipykernel_launcher",
        "-f",
        "{connection_file}"
      ],
      "display_name": "Python 3",
      "language": "python",
      "name": "python3"
    },
    "nteract": {
      "version": "0.26.0"
    }
  },
  "nbformat": 4,
  "nbformat_minor": 0
}