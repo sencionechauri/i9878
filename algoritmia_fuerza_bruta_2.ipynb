{
  "cells": [
    {
      "cell_type": "markdown",
      "source": [
        "# <center>Algoritmos de Fuerza Bruta</center>\n",
        "\n",
        "## <center>Continuación</center>"
      ],
      "metadata": {
        "nteract": {
          "transient": {
            "deleting": false
          }
        }
      }
    },
    {
      "cell_type": "markdown",
      "source": [
        "## <center>Knapsack Problem (Problema de la Mochila)</center>"
      ],
      "metadata": {
        "nteract": {
          "transient": {
            "deleting": false
          }
        }
      }
    },
    {
      "cell_type": "markdown",
      "source": [
        "Dados $n$ artículos de pesos conocidos $w_{1}, w_{2}, \\ldots, w_{n}$ y valores $v_{1}, v_{2}, \\ldots, v_{n}$ y una mochila de capacidad $W$, encontrar el subconjunto más valioso de artículos que entren en la mochila.\n",
        "\n",
        "El acercamiento de búsqueda exhaustiva a este problema lleva a generar todos los subconjuntos del conjunto de $n$ artículos, computar el peso total de cada subconjunto para identificar subconjuntos viables (i. e. aquellos con peso total que no excede la capacidad de la mochila) y encontrar el subconjunto de mayor valor entre ellos."
      ],
      "metadata": {
        "nteract": {
          "transient": {
            "deleting": false
          }
        }
      }
    },
    {
      "cell_type": "markdown",
      "source": [
        "### Ejemplo\n",
        "\n",
        "Para una mochila de capacidad $W=10$ y los siguientes artículos de peso $w_{i}$ y valor $v_{i}$:\n",
        "\n",
        "$w_1 = 7, v_1 = \\$42$\n",
        "\n",
        "$w_2 = 3, v_2 = \\$12$\n",
        "\n",
        "$w_3 = 4, v_3 = \\$40$\n",
        "\n",
        "$w_4 = 5, v_4 = \\$25$\n",
        "\n",
        "Se tienen los siguientes subconjuntos:\n",
        "\n",
        "Subconjunto | Peso Total | Valor Total\n",
        "--- | --- | ---\n",
        "$\\emptyset$ | $0$ | $\\$0$\n",
        "$\\{1\\}$ | $7$ | $\\$42$\n",
        "$\\{2\\}$ | $3$ | $\\$12$\n",
        "$\\{3\\}$ | $4$ | $\\$40$\n",
        "$\\{4\\}$ | $5$ | $\\$25$\n",
        "$\\{1,2\\}$ | $10$ | $\\$54$\n",
        "$\\{1,3\\}$ | $11$ | $\\text{no viable}$\n",
        "$\\{1,4\\}$ | $12$ | $\\text{no viable}$\n",
        "$\\{2,3\\}$ | $7$ | $\\$52$\n",
        "$\\{2,4\\}$ | $8$ | $\\$37$\n",
        "**$\\{3,4\\}$** | **$9$** | **$\\$65$**\n",
        "$\\{1,2,3\\}$ | $14$ | $\\text{no viable}$\n",
        "$\\{1,2,4\\}$ | $15$ | $\\text{no viable}$\n",
        "$\\{1,3,4\\}$ | $16$ | $\\text{no viable}$\n",
        "$\\{2,3,4\\}$ | $12$ | $\\text{no viable}$\n",
        "$\\{1,2,3,4\\}$ | $19$ | $\\text{no viable}$\n",
        "\n",
        "La solución es el subconjunto $\\{3,4\\}$ con un peso de $9$ y un valor total de $\\$65$.\n",
        "\n",
        "Para el problema de la mochila se deben realizar $2^n$ subconjuntos con el acercamiento de fuerza bruta."
      ],
      "metadata": {
        "nteract": {
          "transient": {
            "deleting": false
          }
        }
      }
    },
    {
      "cell_type": "markdown",
      "source": [
        "### Ejercicio\n",
        "\n",
        "Resolver el problema de la mochila con un acercamiento de fuerza bruta para una mochila de capacidad $W=30$ y con articulos:\n",
        "\n",
        "$w_1 = 9, v_1 = \\$21$\n",
        "\n",
        "$w_2 = 5, v_2 = \\$13$\n",
        "\n",
        "$w_3 = 16, v_3 = \\$28$\n",
        "\n",
        "$w_4 = 13, v_4 = \\$31$\n",
        "\n",
        "$w_5 = 7, v_5 = \\$11$"
      ],
      "metadata": {
        "nteract": {
          "transient": {
            "deleting": false
          }
        }
      }
    },
    {
      "cell_type": "markdown",
      "source": [
        "### <center>Assignment Problem (Problema de Asignación)</center>\n",
        "\n",
        "Hay $n$ personas que necesitan ser asignadas para realizar $n$ trabajos, una persona por trabajo (es decir, cada persona es asignada exactamente a un trabajo y cada trabajo es asignado exactamente a una persona). El costo resultante si la $i$-ésima persona es asignada al $j$-ésimo trabajo es una cantidad conocida $C[i,j]$ para cada par $i,j=1,2,\\ldots,n$. El problema es encontrar una asignación con el costo total mínimo."
      ],
      "metadata": {
        "nteract": {
          "transient": {
            "deleting": false
          }
        }
      }
    },
    {
      "cell_type": "markdown",
      "source": [
        "### Ejemplo\n",
        "\n",
        "Supóngase que se tiene la siguiente tabla de personas y trabajos:\n",
        "\n",
        " /  | Trabajo 1 | Trabajo 2 | Trabajo 3 | Trabajo 4\n",
        "--- | --- | --- | --- | ---\n",
        "Persona 1 | 9 | 2 | 7 | 8\n",
        "Persona 2 | 6 | 4 | 3 | 7\n",
        "Persona 3 | 5 | 8 | 1 | 8\n",
        "Persona 4 | 7 | 6 | 9 | 4\n",
        "\n",
        "A partir esta tabla obtenemos la matriz de costos $C$\n",
        "\n",
        "$$\n",
        "C = \n",
        "\\begin{bmatrix}\n",
        "9 & 2 & 7 & 8 \\\\\n",
        "6 & 4 & 3 & 7 \\\\\n",
        "5 & 8 & 1 & 8 \\\\\n",
        "7 & 6 & 9 & 4\n",
        "\\end{bmatrix}\n",
        "$$\n",
        "\n",
        "Ahora realizamos las permutaciones correspondientes para obtener el costo de cada una de las posibles configuraciones. Cada posible solución estará descrita de la forma $<\\text{trabajo_para_persona1}, \\text{trabajo_para_persona2}, \\ldots, \\text{trabajo_para_personan}>$\n",
        "\n",
        "$<1,2,3,4> \\text{costo} = 9+4+1+4=18$\n",
        "\n",
        "$<1,2,4,3> \\text{costo} = 9+4+8+9=30$\n",
        "\n",
        "$<1,3,2,4> \\text{costo} = 9+3+8+4=24$\n",
        "\n",
        "$<1,3,4,2> \\text{costo} = 9+3+8+6=26$\n",
        "\n",
        "$<1,4,2,3> \\text{costo} = 9+7+8+9=33$\n",
        "\n",
        "$<1,4,3,2> \\text{costo} = 9+7+1+6=23$\n",
        "\n",
        "$\\ldots$\n",
        "\n",
        "Continúa las permutaciones y encuentra la solución al problema de la asignación de empleos.\n"
      ],
      "metadata": {
        "nteract": {
          "transient": {
            "deleting": false
          }
        }
      }
    }
  ],
  "metadata": {
    "kernel_info": {
      "name": "python3"
    },
    "language_info": {
      "name": "python",
      "version": "3.7.3",
      "mimetype": "text/x-python",
      "codemirror_mode": {
        "name": "ipython",
        "version": 3
      },
      "pygments_lexer": "ipython3",
      "nbconvert_exporter": "python",
      "file_extension": ".py"
    },
    "kernelspec": {
      "argv": [
        "python",
        "-m",
        "ipykernel_launcher",
        "-f",
        "{connection_file}"
      ],
      "display_name": "Python 3",
      "language": "python",
      "name": "python3"
    },
    "nteract": {
      "version": "0.26.0"
    }
  },
  "nbformat": 4,
  "nbformat_minor": 0
}