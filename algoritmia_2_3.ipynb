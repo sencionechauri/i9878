{
  "cells": [
    {
      "cell_type": "markdown",
      "source": [
        "# <center>Complejidad Algoritmica (Parte 3)</center>"
      ],
      "metadata": {
        "nteract": {
          "transient": {
            "deleting": false
          }
        }
      }
    },
    {
      "cell_type": "markdown",
      "source": [
        "## <center>Análisis Matemático de Algoritmos No Recursivos</center>\n",
        "\n",
        "* Decide sobre un parámetro (o parametros) que indiquen el tamaño de la entrada.\n",
        "* Identifica la operación básica del algoritmo. (Como regla, se localiza en el ciclo más interno.)\n",
        "* Revisa si el número de veces que se realiza la operación básica depende sólo del tamaño de la entrada.\n",
        "* Establece una suma que exprese el número de veces que la operación básica del algoritmo es ejecutada.\n",
        "* Usando fórmulas estandar y reglas de manipulación de sumas ecuentra una fórmula para el conteo de las operaciones o establece su orden de crecimiento."
      ],
      "metadata": {
        "nteract": {
          "transient": {
            "deleting": false
          }
        }
      }
    },
    {
      "cell_type": "markdown",
      "source": [
        "## <center>Algunas Reglas Básicas para Manipulación de Sumas</center>\n",
        "\n",
        "$$\\sum_{i=l}^{u}ca_{i} = c\\sum_{i=l}^{u}a_{i}$$\n",
        "$$\\sum_{i=l}^{u}(a_{i} \\pm b_{i}) = \\sum_{i=l}^{u}a_{i} \\pm \\sum_{i=l}^{u}b_{i}$$\n",
        "\n",
        "## <center>Algunas Fórmulas de Sumas</center>\n",
        "\n",
        "$$\\sum_{i=l}^{u}1=u-l+1$$\n",
        "$$\\sum_{i=0}^{n}i = \\sum_{i=1}^{n}i = 1 + 2 + \\cdots + n = n\\frac{(n+1)}{2} \\approx \\frac{1}{2}n^2 \\in \\Theta(n^2)$$\n",
        "$$\\sum_{i=1}^{n}i^2 = 1^{2} + 2^{2} + \\cdots + n^{2} = \\frac{n(n+1)(2n+1)}{6} \\approx \\frac{1}{3}n^{3} \\in \\Theta(n^3)$$"
      ],
      "metadata": {
        "nteract": {
          "transient": {
            "deleting": false
          }
        }
      }
    },
    {
      "cell_type": "markdown",
      "source": [
        "### <center>Ejemplo 1</center>\n",
        "\n",
        "Considere el problema de encontrar el valor del elemento más grande en una lista de n números.\n",
        "\n",
        "```\n",
        "maxElemento(A[0...n-1])\n",
        "//Determina el valor del mayor elemento en un arreglo dado\n",
        "//Entrada: Un arreglo A[0...n-1] de elementos reales\n",
        "//Salida: EL valor del mayor elemento en A\n",
        "\n",
        "maxval <- A[0]\n",
        "desde i <- 1 hasta n - 1 \n",
        "    si A[i] > maxval\n",
        "        maxval <- A[i]\n",
        "regresar maxval\n",
        "```"
      ],
      "metadata": {
        "nteract": {
          "transient": {
            "deleting": false
          }
        }
      }
    },
    {
      "cell_type": "markdown",
      "source": [
        "### <center>Solución 1</center>\n",
        "\n",
        "1. Decide sobre un parámetro (o parametros) que indiquen el tamaño de la entrada.\n",
        "\n",
        "  * *El parametro de entrada es un arreglo y el tamaño* $n$ *del arreglo indica el tamaño de la entrada.*\n",
        "\n",
        "2. Identifica la operación básica del algoritmo. (Como regla, se localiza en el ciclo más interno.)\n",
        "\n",
        "  * *El algoritmo tiene un único ciclo y dentro de ese ciclo la operación que más veces sucede es la comparación* ```A[i] < maxval```.\n",
        "\n",
        "3. Revisa si el número de veces que se realiza la operación básica depende sólo del tamaño de la entrada.\n",
        "\n",
        "  * *Sí, el ciclo recorre el arreglo elemento a elemento.*\n",
        "\n",
        "4. Establece una suma que exprese el número de veces que la operación básica del algoritmo es ejecutada.\n",
        "\n",
        "  * *En este paso debemos transformar el ciclo \"desde\" en una suma. El límite inferior de la suma es el valor inicial del contador del ciclo mientras que el límite superior de la suma el valor hasta el que llegará el contador del ciclo y el valor que se está sumando es la cantidad de veces que sucede la operación básica en cada ciclo (en este caso 1), por lo tanto el ciclo ```desde i <- 1 hasta n - 1``` se traduce en:*\n",
        "  $$c(n) = \\sum_{i=1}^{n-1}1$$\n",
        "\n",
        "    *Siendo $c(n)$ el conteo de veces de la operación básica.*\n",
        "    \n",
        "5. Usando fórmulas estandar y reglas de manipulación de sumas ecuentra una fórmula para el conteo de las operaciones o establece su orden de crecimiento.\n",
        "\n",
        "  * *Ahora debemos buscar en las fórmulas de sumas aquella que se parezca lo más posible o cumpla con el patrón de la suma en nuestro problema. En nuestro caso tenemos la suma de 1 por lo tanto usaremos la fórmula:*\n",
        "  \n",
        "  $$\\sum_{i=l}^{u}1=u-l+1$$\n",
        "  \n",
        "  *Reemplazando valores tenemos: *\n",
        "  \n",
        "  $$c(n) = n-1-1+1 = n-1 \\in \\Theta(n)$$\n",
        "\n",
        "Con ello concluimos que nuestro algoritmo realiza $n-1$ operaciones lo cual pertenece al caso medio de $n$.\n"
      ],
      "metadata": {
        "nteract": {
          "transient": {
            "deleting": false
          }
        }
      }
    },
    {
      "cell_type": "markdown",
      "source": [
        "### <center>Ejemplo 2</center>\n",
        "\n",
        "```\n",
        "misterio(n)\n",
        "//Entrada: Un entero no negativo n\n",
        "\n",
        "s <- 0\n",
        "desde i <- 1 hasta n \n",
        "    s <- s + i * i\n",
        "regresar s\n",
        "```"
      ],
      "metadata": {
        "nteract": {
          "transient": {
            "deleting": false
          }
        }
      }
    },
    {
      "cell_type": "markdown",
      "source": [
        "### <center>Solución 2</center>\n",
        "\n",
        "1. Decide sobre un parámetro (o parametros) que indiquen el tamaño de la entrada.\n",
        "\n",
        "  * *El parametro de entrada es un entero* $n$ *y dicho entero representa el tamaño de la entrada.*\n",
        "\n",
        "2. Identifica la operación básica del algoritmo. (Como regla, se localiza en el ciclo más interno.)\n",
        "\n",
        "  * *El algoritmo tiene un único ciclo y dentro de ese ciclo la operación que más tiempo comsume es la multiplicación* ```i * i```.\n",
        "\n",
        "3. Revisa si el número de veces que se realiza la operación básica depende sólo del tamaño de la entrada.\n",
        "\n",
        "  * *Sí, el ciclo recorre desde 1 hasta el valor* $n$ *.*\n",
        "\n",
        "4. Establece una suma que exprese el número de veces que la operación básica del algoritmo es ejecutada.\n",
        "\n",
        "  * *En este paso debemos transformar el ciclo \"desde\" en una suma. El límite inferior de la suma es el valor inicial del contador del ciclo mientras que el límite superior de la suma el valor hasta el que llegará el contador del ciclo y el valor que se está sumando es la cantidad de veces que sucede la operación básica en cada ciclo (en este caso 1), por lo tanto el ciclo ```desde i <- 1 hasta n``` se traduce en:*\n",
        "  $$c(n) = \\sum_{i=1}^{n}1$$\n",
        "\n",
        "    *Siendo $c(n)$ el conteo de veces de la operación básica.*\n",
        "    \n",
        "5. Usando fórmulas estandar y reglas de manipulación de sumas ecuentra una fórmula para el conteo de las operaciones o establece su orden de crecimiento.\n",
        "\n",
        "  * *Ahora debemos buscar en las fórmulas de sumas aquella que se parezca lo más posible o cumpla con el patrón de la suma en nuestro problema. En nuestro caso tenemos la suma de 1 por lo tanto usaremos la fórmula:*\n",
        "  \n",
        "  $$\\sum_{i=l}^{u}1=u-l+1$$\n",
        "  \n",
        "  *Reemplazando valores tenemos: *\n",
        "  \n",
        "  $$u = n$$\n",
        "  $$l = 1$$\n",
        "  $$c(n) = n-1+1 = n \\in \\Theta(n)$$\n",
        "\n",
        "Con ello concluimos que nuestro algoritmo realiza $n$ operaciones lo cual pertenece al caso medio de $n$.\n"
      ],
      "metadata": {
        "nteract": {
          "transient": {
            "deleting": false
          }
        }
      }
    },
    {
      "cell_type": "markdown",
      "source": [
        "### <center>Ejemplo 3</center>\n",
        "\n",
        "```\n",
        "secreto(A[0...n-1])\n",
        "//Entrada: Un arreglo A[0...n-1] de n números reales.\n",
        "\n",
        "minval <- A[0]\n",
        "maxval <- A[0]\n",
        "desde i <- 1 hasta n-1\n",
        "    si A[i] < minval\n",
        "        minval <- A[i]\n",
        "    si A[i] > maxval\n",
        "        maxval <- A[i]\n",
        "regresar maxval-minval\n",
        "```"
      ],
      "metadata": {
        "nteract": {
          "transient": {
            "deleting": false
          }
        }
      }
    },
    {
      "cell_type": "markdown",
      "source": [
        "### <center>Solución 3</center>\n",
        "\n",
        "1. Decide sobre un parámetro (o parametros) que indiquen el tamaño de la entrada.\n",
        "\n",
        "  * *El parametro de entrada es un arreglo y el tamaño* $n$ *del arreglo indica el tamaño de la entrada.*\n",
        "\n",
        "2. Identifica la operación básica del algoritmo. (Como regla, se localiza en el ciclo más interno.)\n",
        "\n",
        "  * *El algoritmo tiene un único ciclo y dentro de ese ciclo las operaciónes que más veces suceden son las comparaciónes* ```A[i] < minval``` y ```A[i] > maxval```.\n",
        "\n",
        "3. Revisa si el número de veces que se realiza la operación básica depende sólo del tamaño de la entrada.\n",
        "\n",
        "  * *Sí, el ciclo recorre el arreglo elemento a elemento.*\n",
        "\n",
        "4. Establece una suma que exprese el número de veces que la operación básica del algoritmo es ejecutada.\n",
        "\n",
        "  * *En este paso debemos transformar el ciclo \"desde\" en una suma. El límite inferior de la suma es el valor inicial del contador del ciclo mientras que el límite superior de la suma el valor hasta el que llegará el contador del ciclo y el valor que se está sumando es la cantidad de veces que sucede la operación básica en cada ciclo. Para este algoritmo tenemos dos operaciones de comparación que suceden la misma cantidad de veces y tienen el mismo costo computacional por lo tanto la cantidad de veces que sucede la operación básica será de 2. Entonces el ciclo ```desde i <- 1 hasta n - 1``` del algoritmo se traduce en:*\n",
        "  $$c(n) = \\sum_{i=1}^{n-1}2$$\n",
        "\n",
        "    *Siendo $c(n)$ el conteo de veces de la operación básica.*\n",
        "    \n",
        "5. Usando fórmulas estandar y reglas de manipulación de sumas ecuentra una fórmula para el conteo de las operaciones o establece su orden de crecimiento.\n",
        "\n",
        "  * *Ahora debemos buscar en las fórmulas de sumas aquella que se parezca lo más posible o cumpla con el patrón de la suma en nuestro problema. En nuestro caso tenemos la suma de 2 y en nuestras fórmulas de sumas no aparece dicha suma, sin embargo la primer regla de manipulación de sumas establece que cualquier constante multiplicativa puede ser colocada fuera de la suma:*\n",
        "  \n",
        "  $$\\sum_{i=l}^{u}ca_{i} = c\\sum_{i=l}^{u}a_{i}$$\n",
        "  \n",
        "  *Con ello podemos decir que sucede dos veces la misma operación básica y extraer ese 2 de la suma, con lo cual ahora tenemos:*\n",
        "  \n",
        "  $$\\sum_{i=1}^{n-1}2*1 = 2\\sum_{i=1}^{n-1}1$$\n",
        "  \n",
        "  *Ahora nuestra suma ya se ve como una de las fórmulas conocidas*\n",
        "  \n",
        "  $$\\sum_{i=l}^{u}1=u-l+1$$\n",
        "  \n",
        "  *Reemplazando valores tenemos: *\n",
        "  \n",
        "  $$u = n-1$$\n",
        "  \n",
        "  $$l = 1$$\n",
        "  \n",
        "  *Y resolviendo*\n",
        "  \n",
        "  $$c(n) = 2*(n-1-1+1) = 2(n-1) = 2n - 2 \\in \\Theta(n)$$\n"
      ],
      "metadata": {
        "nteract": {
          "transient": {
            "deleting": false
          }
        }
      }
    }
  ],
  "metadata": {
    "kernel_info": {
      "name": "python3"
    },
    "language_info": {
      "name": "python",
      "version": "3.7.3",
      "mimetype": "text/x-python",
      "codemirror_mode": {
        "name": "ipython",
        "version": 3
      },
      "pygments_lexer": "ipython3",
      "nbconvert_exporter": "python",
      "file_extension": ".py"
    },
    "kernelspec": {
      "argv": [
        "python",
        "-m",
        "ipykernel_launcher",
        "-f",
        "{connection_file}"
      ],
      "display_name": "Python 3",
      "language": "python",
      "name": "python3"
    },
    "nteract": {
      "version": "0.28.0"
    }
  },
  "nbformat": 4,
  "nbformat_minor": 0
}