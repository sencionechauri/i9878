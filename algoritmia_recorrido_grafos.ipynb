{
  "cells": [
    {
      "cell_type": "markdown",
      "source": [
        "# <center>Recorridos Sobre Grafos</center>\n",
        "## <center>Algoritmos de fuerza bruta</center>"
      ],
      "metadata": {
        "nteract": {
          "transient": {
            "deleting": false
          }
        }
      }
    },
    {
      "cell_type": "markdown",
      "source": [
        "### Algoritmos sobre grafos\n",
        "\n",
        "Muchos de los algoritmos sobre grafos involucran visitar cada vértice en un orden sistemático. Así como con árboles, existen varias formas de hacerlo. Los dos algoritmos más comunes para recorridos son primero en amplitud y primero en profundidad. Aunque son recorridos sobre grafos son más conocidos como búsqueda primero en amplitud y búsqueda primero en profundidad."
      ],
      "metadata": {
        "nteract": {
          "transient": {
            "deleting": false
          }
        }
      }
    },
    {
      "cell_type": "markdown",
      "source": [
        "**Búsqueda Primero en Amplitud**\n",
        "\n",
        "En una búsqueda primero en amplitud, se visita el nodo inicial primero, después todos los nodos adyacentes a él, luego todos los nodos que pueden ser alcanzados con un camino desde el inicio y que contengan dos aristas, después tres aristas y así sucesivamente.\n",
        "\n",
        "```\n",
        "BFS(G)\n",
        "//Implementa el recorrido primero en amplitud en un grafo\n",
        "//Entrada: Grafo G = (V, E)\n",
        "//Salida: Grafo G con sus vértices marcados con enteros consecutivos en el orden en que son visitados por el recorrido\n",
        "\n",
        "marcar cada vértice en V con 0 indicando “no visitado” \n",
        "count ← 0\n",
        "para cada vértice v en V hacer\n",
        "\tsi v está marcado con 0\n",
        "\t\tbfs(v)\n",
        "```\n",
        "\n",
        "El método bfs está definido como:\n",
        "\n",
        "```\n",
        "bfs(v)\n",
        "//visita todos los vértices no visitados conectados al vértice v por un camino y los numera en el orden en que\n",
        "//son visitados a través de la variable global count\n",
        " \n",
        "count ← count + 1\n",
        "marcar v con count e inicializar una cola con v\n",
        "mientras la cola no esté vacía hacer\n",
        "\tpara cada vértice w en V adyacente al vértice del frente hacer\n",
        "\t\tsi w está marcado con 0\n",
        "\t\t\tcount ← count + 1\n",
        "\t\t\tmarcar w con count\n",
        "\t\t\tagregar w a la cola\n",
        "\tremover el vértice del frente de la cola\n",
        "```"
      ],
      "metadata": {
        "nteract": {
          "transient": {
            "deleting": false
          }
        }
      }
    },
    {
      "cell_type": "code",
      "source": [
        "%%html\n",
        "<center><iframe src=\"https://drive.google.com/file/d/1odBVGTzY8ngsHXrHxAWWtWLaLw_KpkcZ/preview\" width=\"640\" height=\"480\"></iframe></center>"
      ],
      "outputs": [],
      "execution_count": null,
      "metadata": {
        "collapsed": true,
        "jupyter": {
          "source_hidden": false,
          "outputs_hidden": false
        },
        "nteract": {
          "transient": {
            "deleting": false
          }
        },
        "execution": {
          "iopub.status.busy": "2020-11-11T15:53:09.356Z",
          "iopub.execute_input": "2020-11-11T15:53:09.388Z",
          "iopub.status.idle": "2020-11-11T15:53:09.514Z",
          "shell.execute_reply": "2020-11-11T15:53:09.552Z"
        }
      }
    },
    {
      "cell_type": "markdown",
      "source": [
        "**Ejemplo: Búsqueda Primero en Amplitud**\n",
        "\n",
        "<center><img src=\"media/bfs.png\" width=80%/></center>"
      ],
      "metadata": {
        "nteract": {
          "transient": {
            "deleting": false
          }
        }
      }
    },
    {
      "cell_type": "markdown",
      "source": [
        "**Búsqueda Primero en Profundidad**\n",
        "\n",
        "Otra forma de recorrer un grafo es primero en profundidad. Se comienza en un vértice, se visita y se selecciona un vértice adyacente para visitar. Después se selecciona un vértice adyacente a ese (uno que no haya sido visitado), y así sucesivamente hasta que no se puede avanzar más. Posteriormente se regresa y se busca si hay un nuevo vértice no visitado.\n",
        "\n",
        "```\n",
        "DFS(G)\n",
        "//Implementa el recorrido primero en profundidad en un grafo\n",
        "//Entrada: Grafo G = (V, E)\n",
        "//Salida: Grafo G con sus vértices marcados con enteros consecutivos en el orden en que son visitados por el recorrido\n",
        "\n",
        "marcar cada vértice en V con 0 indicando “no visitado” \n",
        "count ← 0\n",
        "para cada vértice v en V hacer\n",
        "\tsi v está marcado con 0\n",
        "\t\tdfs(v)\n",
        "```\n",
        "\n",
        "El método dfs queda definido como:\n",
        "\n",
        "```\n",
        "dfs(v)\n",
        "//visita recursivamente todos los vértices no visitados conectados al vértice v por un camino y los numera en el\n",
        "//orden en que son encontrados a través de la variable global count\n",
        " \n",
        "count ← count + 1\n",
        "marcar v con count\n",
        "para cada vértice w en V adyacente a v hacer\n",
        "\t\tsi w está marcado con 0\n",
        "\t\t\tdfs(w)\n",
        "```"
      ],
      "metadata": {
        "nteract": {
          "transient": {
            "deleting": false
          }
        }
      }
    },
    {
      "cell_type": "code",
      "source": [
        "%%html\n",
        "<center><iframe src=\"https://drive.google.com/file/d/18fynGiqJ-XTkhzc6mURAT6FkS6-UhlJC/preview\" width=\"640\" height=\"480\"></iframe></center>"
      ],
      "outputs": [],
      "execution_count": null,
      "metadata": {
        "collapsed": true,
        "jupyter": {
          "source_hidden": false,
          "outputs_hidden": false
        },
        "nteract": {
          "transient": {
            "deleting": false
          }
        },
        "execution": {
          "iopub.status.busy": "2020-11-11T15:53:27.357Z",
          "iopub.execute_input": "2020-11-11T15:53:27.390Z",
          "iopub.status.idle": "2020-11-11T15:53:27.681Z",
          "shell.execute_reply": "2020-11-11T15:53:27.718Z"
        }
      }
    },
    {
      "cell_type": "markdown",
      "source": [
        "**Ejemplo: Búsqueda Primero en Profundidad**\n",
        "\n",
        "<center><img src=\"media/dfs.png\" width=80%/></center>"
      ],
      "metadata": {
        "nteract": {
          "transient": {
            "deleting": false
          }
        }
      }
    }
  ],
  "metadata": {
    "kernel_info": {
      "name": "python3"
    },
    "language_info": {
      "name": "python",
      "version": "3.7.3",
      "mimetype": "text/x-python",
      "codemirror_mode": {
        "name": "ipython",
        "version": 3
      },
      "pygments_lexer": "ipython3",
      "nbconvert_exporter": "python",
      "file_extension": ".py"
    },
    "kernelspec": {
      "argv": [
        "python",
        "-m",
        "ipykernel_launcher",
        "-f",
        "{connection_file}"
      ],
      "display_name": "Python 3",
      "language": "python",
      "name": "python3"
    },
    "nteract": {
      "version": "0.28.0"
    }
  },
  "nbformat": 4,
  "nbformat_minor": 0
}